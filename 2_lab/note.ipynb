{
 "cells": [
  {
   "cell_type": "markdown",
   "id": "6a74162c",
   "metadata": {},
   "source": [
    "# Основи Python\n",
    "### Базові типи даних\n",
    "- починаємо розглядати стрічкові дані str\n",
    "- в Пайтоні все є обєктами, навіть якщо ми не розуміємо що ми працюємо з обєктами\n",
    "- Python є слабо типізованою мовою"
   ]
  },
  {
   "cell_type": "code",
   "execution_count": null,
   "id": "1e19b8db",
   "metadata": {},
   "outputs": [
    {
     "name": "stdout",
     "output_type": "stream",
     "text": [
      "<class 'str'> <class 'str'> <class 'str'> <class 'str'>\n",
      "<class 'int'> <class 'str'> <class 'str'>\n"
     ]
    }
   ],
   "source": [
    "s = \"Hello, World!\"\n",
    "s2 = 'Python is fun!'\n",
    "s3 = \"\"\"This is a multi-line\n",
    "string that spans\"\"\"\n",
    "s4 = \"\"\n",
    "n = 1234  # Integer\n",
    "s5 = str(n)  # Convert integer to string\n",
    "s6: str = 12\n",
    "\n",
    "print(type(s), type(s2), type(s3), type(s4)) \n",
    "print(type(n), type(s5), type(s6))"
   ]
  },
  {
   "cell_type": "markdown",
   "id": "b826cfec",
   "metadata": {},
   "source": [
    "- до обєктів можна застосовувати методи\n",
    "- до стрічок можна застосовувати слайси\n",
    "- стрічки можуть використовуватись для циклів"
   ]
  },
  {
   "cell_type": "code",
   "execution_count": null,
   "id": "5a090ce7",
   "metadata": {},
   "outputs": [
    {
     "name": "stdout",
     "output_type": "stream",
     "text": [
      "H W Wor\n",
      "is is\n",
      "-> 1\n",
      "-> 2\n",
      "-> 3\n",
      "-> 4\n"
     ]
    }
   ],
   "source": [
    "# до обєктів можна застосовувати методи\n",
    "s.count('l')\n",
    "s.split()\n",
    "\n",
    "list(s)\n",
    "# до стрічок можна застосовувати слайси\n",
    "print(s[0], s[7], s[-6:10])\n",
    "print(s2[7:9], s2.split()[1])\n",
    "for char in s5:\n",
    "    print(\"->\", char)"
   ]
  }
 ],
 "metadata": {
  "kernelspec": {
   "display_name": "Python 3",
   "language": "python",
   "name": "python3"
  },
  "language_info": {
   "codemirror_mode": {
    "name": "ipython",
    "version": 3
   },
   "file_extension": ".py",
   "mimetype": "text/x-python",
   "name": "python",
   "nbconvert_exporter": "python",
   "pygments_lexer": "ipython3",
   "version": "3.12.9"
  }
 },
 "nbformat": 4,
 "nbformat_minor": 5
}
