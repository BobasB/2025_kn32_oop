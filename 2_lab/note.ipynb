{
 "cells": [
  {
   "cell_type": "markdown",
   "id": "6a74162c",
   "metadata": {},
   "source": [
    "# Основи Python\n",
    "### Базові типи даних\n",
    "- починаємо розглядати стрічкові дані str\n",
    "- в Пайтоні все є обєктами, навіть якщо ми не розуміємо що ми працюємо з обєктами\n",
    "- Python є слабо типізованою мовою"
   ]
  },
  {
   "cell_type": "code",
   "execution_count": null,
   "id": "1e19b8db",
   "metadata": {},
   "outputs": [],
   "source": [
    "s = \"Hello, World!\"\n",
    "s2 = 'Python is fun!'\n",
    "s3 = \"\"\"This is a multi-line\n",
    "string that spans\"\"\"\n",
    "s4 = \"\"\n",
    "n = 1234  # Integer\n",
    "s5 = str(n)  # Convert integer to string\n",
    "s6: str = 12\n",
    "\n",
    "print(type(s), type(s2), type(s3), type(s4)) \n",
    "print(type(n), type(s5), type(s6))"
   ]
  },
  {
   "cell_type": "markdown",
   "id": "b826cfec",
   "metadata": {},
   "source": [
    "- до обєктів можна застосовувати методи\n",
    "- до стрічок можна застосовувати слайси\n",
    "- стрічки можуть використовуватись для циклів"
   ]
  },
  {
   "cell_type": "code",
   "execution_count": null,
   "id": "5a090ce7",
   "metadata": {},
   "outputs": [],
   "source": [
    "# до обєктів можна застосовувати методи\n",
    "s.count('l')\n",
    "s.split()\n",
    "\n",
    "list(s)\n",
    "# до стрічок можна застосовувати слайси\n",
    "print(s[0], s[7], s[-6:10])\n",
    "print(s2[7:9], s2.split()[1])\n",
    "for char in s5:\n",
    "    print(\"->\", char)"
   ]
  },
  {
   "cell_type": "markdown",
   "id": "a5089801",
   "metadata": {},
   "source": [
    "# Арифметичні операції з стрічками\n",
    "- довавання двох стрічкох називається конкатенація і це просто їх зчеплення\n",
    "- віднімати не можна, все поломається\n",
    "- множення: слова на слово множити не можна, але можна множити слово на цифру\n",
    "- ділення: помилка\n",
    "- арифметичні дії можливі, тому що стрічки є обєктами і там прописані спеціальні методи"
   ]
  },
  {
   "cell_type": "code",
   "execution_count": null,
   "id": "cf3621f9",
   "metadata": {},
   "outputs": [],
   "source": [
    "c1 = \"Слово\"\n",
    "c2 = \"інше слово\"\n",
    "c3 = c1 + \", \" + c2\n",
    "print(c3)\n",
    "# c3 = c1 - c2 # TypeError: unsupported operand type(s) for -: 'str' and 'str'\n",
    "print(10*\"<^>\" + \"\\n\" + \"Гарний вивід тексту\\n\" + 10*\"<_>\")\n",
    "print(c1.__add__(c2), \"Це те саме що: \", c1 + c2)\n",
    "c1.__eq__(c2)"
   ]
  },
  {
   "cell_type": "markdown",
   "id": "18bc1cdb",
   "metadata": {},
   "source": [
    "# Числові типи даних\n",
    "- цілі числі та з полаваючою крапкою\n",
    "- можемо виконувати всі арифметичні операції та деякі цікаві дії- \n",
    "- В Python оператор // — це оператор цілочисельного ділення (floor division). Він ділить одне- число на інше і повертає цілу частину результату, відкидаючи дробову частину. 7 // 3 поверне 2- (бо 7 / 3 = 2.333..., а // залишає тільки 2) В Python оператор % — це оператор остачі від- ділення (modulo). Він повертає залишок після ділення одного числа на інше. 7 % 3 поверне 1 (бо 7- = 2 * 3 + 1, залишок — 1)- \n",
    "- над числами можна виконувати логічні операції\n",
    "\n"
   ]
  },
  {
   "cell_type": "code",
   "execution_count": null,
   "id": "c44e2a81",
   "metadata": {},
   "outputs": [],
   "source": [
    "i = 1\n",
    "f = 1.0\n",
    "print(type(i), type(f), \"Чи ці два числі будуть рівними: \", i == f, i is f)\n",
    "o = 1 + 4j\n",
    "type(o)\n",
    "\n",
    "a = i + 2\n",
    "i = i + 5\n",
    "i += 5 # інкремент\n",
    "print(i, 1//2, 1%2, \"Піднесення в степінь: \", 2**2)"
   ]
  },
  {
   "cell_type": "code",
   "execution_count": null,
   "id": "b8d27a5c",
   "metadata": {},
   "outputs": [],
   "source": [
    "k = 1 & 1 & 0 and 1\n",
    "m = 1 | 0 | 1 or 0\n",
    "\n",
    "print(k, m, not True, ~1)"
   ]
  },
  {
   "cell_type": "markdown",
   "id": "3242ed78",
   "metadata": {},
   "source": [
    "# Колекції\n",
    "- колекціями називаються типи які можуть в собі мати інші типи даних, або їх набори\n",
    "- list - впорядковані змінні набори даних\n",
    "- на співбесідах дуже часто запитують як поміняти порядок в списку на протилежний"
   ]
  },
  {
   "cell_type": "code",
   "execution_count": null,
   "id": "4caeb574",
   "metadata": {},
   "outputs": [],
   "source": [
    "l = [1, \"1\", \"один\", 1.0, [1, 2, \"Це ми хочемо вивести по індексу\"], 0]\n",
    "print(l[4][2], type(l))\n",
    "l.append(\"Новий елемент\")\n",
    "l.remove(\"один\")\n",
    "l.pop()\n",
    "print(l, \"\\n\", l[3][2])\n",
    "l[0] = [\"Нуль\", 0]\n",
    "print(l)"
   ]
  },
  {
   "cell_type": "code",
   "execution_count": null,
   "id": "dff70fa9",
   "metadata": {},
   "outputs": [],
   "source": [
    "rv = [1, 5, 8, 0]\n",
    "rl = rv[::-1]\n",
    "print(rv, rl)\n",
    "# задача на знаходження поліндромів\n",
    "words = [\"ротор\", \"тест\", \"казак\", \"мадам\", \"python\", \"анна\", \"123321\"]\n",
    "for w in words:\n",
    "    w1 = w\n",
    "    w2 = w[::-1]\n",
    "    if w1 == w2:\n",
    "        print(f\"{w1} = {w2} - це поліндром\")\n",
    "    else:\n",
    "        print(f\"{w1} = {w2} - це не поліндром\")"
   ]
  },
  {
   "cell_type": "markdown",
   "id": "b9e25bff",
   "metadata": {},
   "source": [
    "- стічки деколи поводяться як списки\n",
    "- слайсинг - виокремлення підмножини (набір) з цілого"
   ]
  },
  {
   "cell_type": "code",
   "execution_count": null,
   "id": "6ef1da78",
   "metadata": {},
   "outputs": [],
   "source": [
    "s = 'Це стрічка для слайсингу'\n",
    "\n",
    "print(s[0], s[-1], s[3:10], s[-9:])"
   ]
  },
  {
   "cell_type": "markdown",
   "id": "25ff4845",
   "metadata": {},
   "source": [
    "- другий тип - tuples - впорядкована колекція незмінних (immutable) елементів"
   ]
  },
  {
   "cell_type": "code",
   "execution_count": null,
   "id": "94a2316b",
   "metadata": {},
   "outputs": [],
   "source": [
    "t = (1, 2, 3, \"test\", [1, 2, 3], (4, 5, 6))\n",
    "print(t.index(\"test\"))\n",
    "l = list(t)\n",
    "l.append(\"Новий елемент\")\n",
    "print(l)\n",
    "t = tuple(l)\n",
    "print(t[-1][-7:])"
   ]
  },
  {
   "cell_type": "markdown",
   "id": "2c74bd77",
   "metadata": {},
   "source": [
    "# Набори даних\n",
    "- set - це колекія унікальних не повторюваних даних, однак вони є невпорядковані"
   ]
  },
  {
   "cell_type": "code",
   "execution_count": null,
   "id": "04b4c0bd",
   "metadata": {},
   "outputs": [],
   "source": [
    "s = {0, \"0\", False, 0.0, 0, 1, True, 4, \"four\", 4, 2, 3, 2}\n",
    "print(s)\n",
    "print(s.pop())\n",
    "print(s)"
   ]
  },
  {
   "cell_type": "markdown",
   "id": "16c1a96f",
   "metadata": {},
   "source": [
    "Завдання\n",
    "- знайти повторювані елементи в заданій колекції"
   ]
  },
  {
   "cell_type": "code",
   "execution_count": null,
   "id": "4190fbe1",
   "metadata": {},
   "outputs": [],
   "source": [
    "test_collection = [1, 2, 3, 4, 5, 1, 2, 3, 6, 7, 8, 9, 5]\n",
    "unique_items = set()\n",
    "duplicates = set()\n",
    "for item in test_collection:\n",
    "    if item in unique_items:\n",
    "        duplicates.add(item)\n",
    "    else:\n",
    "        unique_items.add(item)\n",
    "print(\"Повторювані елементи:\", duplicates)\n",
    "\n",
    "duplicates = set([x for x in test_collection if test_collection.count(x) > 1])\n",
    "print(\"Повторювані елементи:\", duplicates)\n",
    "print(1 in test_collection)"
   ]
  },
  {
   "cell_type": "markdown",
   "id": "493713b7",
   "metadata": {},
   "source": [
    "# Словники\n",
    "- dict - це набори даних які сладаються з пари key: value\n",
    "- в словнику - всі ключі мають бути унікальними"
   ]
  },
  {
   "cell_type": "code",
   "execution_count": null,
   "id": "9c830c5c",
   "metadata": {},
   "outputs": [],
   "source": [
    "l = [\"one\", \"two\", \"three\"]\n",
    "print(l[0])\n",
    "one = \"один\"\n",
    "two = True\n",
    "d = {0: \"one\", 1: \"two\", 2: \"three\", one: 1, True: \"Правда\", 1: \"Останній\"}\n",
    "print(d[0], d[\"один\"], d[one], d[two])\n",
    "\n",
    "for i in range(0,2):\n",
    "    print(i, d[i])"
   ]
  },
  {
   "cell_type": "markdown",
   "id": "e22d78e2",
   "metadata": {},
   "source": [
    "Завдання\n",
    "- попрактикуватись з словниками та вибрати всі ключі\n",
    "- приклад АПІ азпиту та його відповідь\n",
    "- JSON - це тип файлів який зберігає дані у структурованому вигляді"
   ]
  },
  {
   "cell_type": "code",
   "execution_count": null,
   "id": "27d3efe8",
   "metadata": {},
   "outputs": [],
   "source": [
    "for k in d.keys():\n",
    "    print(k)\n",
    "\n",
    "responce = {\n",
    "    \"status\": \"ok\",\n",
    "    \"httpStatus\": 200,\n",
    "    \"totalResults\": 38,\n",
    "    \"articles\": [\n",
    "        {\n",
    "            \"source\": {\"id\": None, \"name\": \"YouTube\"},\n",
    "            \"author\": \"IT-KAMASUTRA\",\n",
    "            \"title\": \"Python для початківців. Урок 1. Вступ\",\n",
    "            \"description\": \"Перший урок з курсу Python для початківців. В цьому уроці ми розглянемо основи мови Python, встановлення середовища розробки та створення першої програми. Підписуйтесь на канал, щоб не пропустити наступні уроки! #Python #Програмування #ITKamasutra\",\n",
    "            \"url\": \"https://www.youtube.com/watch?v=rfscVS0vtbw\",\n",
    "        }\n",
    "    ]\n",
    "}\n",
    "\n",
    "print(responce[\"articles\"][0][\"source\"][\"name\"])\n",
    "for k in responce.keys():\n",
    "    print(f\"Сервер повернув: {k}\")\n",
    "\n",
    "import json\n",
    "\n",
    "json_data = json.dumps(responce, ensure_ascii=False, indent=4)\n",
    "f = open(\"responce.json\", \"w\", encoding=\"utf-8\")\n",
    "f.write(json_data)\n",
    "f.close()"
   ]
  },
  {
   "cell_type": "markdown",
   "id": "d645ef26",
   "metadata": {},
   "source": [
    "# Вбудовані змінні, функції та зарезервовані слова\n",
    "- вбудовані змінні неможна переприсвоювати - це буде помилка `SyntaxError: cannot assign to True`\n",
    "- None - особлива змінні яка означає ніщо і нею зазвичай ініціалізують змінні"
   ]
  },
  {
   "cell_type": "code",
   "execution_count": null,
   "id": "17ba3034",
   "metadata": {},
   "outputs": [],
   "source": [
    "#non_exist_value = 0 # False\n",
    "#non_exist_value = None\n",
    "non_exist_value = None\n",
    "print(non_exist_value)\n",
    "non_exist_value = 5\n",
    "print(non_exist_value)\n",
    "\n",
    "def f():\n",
    "    pass\n",
    "print(f())"
   ]
  },
  {
   "cell_type": "markdown",
   "id": "8d55ddc3",
   "metadata": {},
   "source": [
    "- зарезервовані слова не можу ть бути використаними як змінні (SyntaxError: invalid syntax)"
   ]
  },
  {
   "cell_type": "code",
   "execution_count": null,
   "id": "55edb1e9",
   "metadata": {},
   "outputs": [],
   "source": [
    "#import = 1\n",
    "#global = 1\n",
    "help(\"keywords\")"
   ]
  },
  {
   "cell_type": "markdown",
   "id": "d3b62a6d",
   "metadata": {},
   "source": [
    "- приклад використання вбудованої функції map як заміни циклу"
   ]
  },
  {
   "cell_type": "code",
   "execution_count": null,
   "id": "f98750e9",
   "metadata": {},
   "outputs": [],
   "source": [
    "for i in [\"one\", \"two\", \"three\"]:\n",
    "    print(i)\n",
    "\n",
    "list(map(print, [\"one\", \"two\", \"three\"]))"
   ]
  },
  {
   "cell_type": "markdown",
   "id": "e6fc3228",
   "metadata": {},
   "source": [
    "# Цикли\n",
    "- є всього 2 цикли, for i while\n",
    "\n",
    "Завдання\n",
    "- симулюємо витягування M&ds з пачки, в якій 100 штучок, і рахуємо скільки у нас буде червоних"
   ]
  },
  {
   "cell_type": "code",
   "execution_count": null,
   "id": "ef0b819d",
   "metadata": {},
   "outputs": [],
   "source": [
    "import random\n",
    "mmds = [\"червоний\", \"жовтий\", \"зелений\", \"коричневий\", \"помаранчевий\", \"синій\"]\n",
    "\n",
    "i = 0\n",
    "for j in range(100):\n",
    "    m_color = mmds[random.randint(0, 5)]\n",
    "    print(f\"{j}. Ми витягнули {m_color} M&Ms\")\n",
    "    if m_color == \"червоний\":\n",
    "        print(\"Ура! Нам пощастило!\")\n",
    "        i += 1\n",
    "print(f\"Всього червоних M&Ms: {i}\")\n"
   ]
  },
  {
   "cell_type": "code",
   "execution_count": null,
   "id": "5da37240",
   "metadata": {},
   "outputs": [],
   "source": [
    "import random\n",
    "mmds = [\"червоний\", \"жовтий\", \"зелений\", \"коричневий\", \"помаранчевий\", \"синій\"]\n",
    "pack_base = mmds * 20\n",
    "random.shuffle(pack_base)\n",
    "pack = pack_base[:100]\n",
    "i = 0\n",
    "while pack:\n",
    "    m_color = pack.pop()\n",
    "    print(f\"Ми витягнули {m_color} M&Ms\")\n",
    "    if m_color == \"червоний\":\n",
    "        print(\"Ура! Нам пощастило!\")\n",
    "        i += 1\n",
    "print(f\"Всього червоних M&Ms: {i}\")"
   ]
  },
  {
   "cell_type": "markdown",
   "id": "89b063d2",
   "metadata": {},
   "source": [
    "- додаткові елементи переривання циклів break continue\n",
    "Завдання\n",
    "- кидаємо кубик до поки в нас не випаде 6"
   ]
  },
  {
   "cell_type": "code",
   "execution_count": null,
   "id": "3c4a409e",
   "metadata": {},
   "outputs": [],
   "source": [
    "import random\n",
    "dice = None\n",
    "while dice != 6:\n",
    "    dice = random.randint(1, 6)\n",
    "    print(f\"Мені випало {dice}\")"
   ]
  },
  {
   "cell_type": "code",
   "execution_count": null,
   "id": "0f6f8236",
   "metadata": {},
   "outputs": [],
   "source": [
    "for i in range(100):\n",
    "    dice = random.randint(1, 6)\n",
    "    print(f\"{i}. Мені випало {dice}\")\n",
    "    if dice == 6:\n",
    "        print(\"Ура! Нам пощастило!\")\n",
    "        break"
   ]
  },
  {
   "cell_type": "markdown",
   "id": "0f42715d",
   "metadata": {},
   "source": [
    "Завдання\n",
    "- в пачці M&Ds відкладаємо всі червоні і зелені"
   ]
  },
  {
   "cell_type": "code",
   "execution_count": null,
   "id": "52f303a0",
   "metadata": {},
   "outputs": [],
   "source": [
    "pack = pack_base[:100]\n",
    "for i in pack:\n",
    "    if i in [\"червоний\", \"зелений\"]:\n",
    "        print(f\"{i} відкладено в сторону\")\n",
    "        continue\n",
    "    print(f\"{i} з'їдено\")"
   ]
  },
  {
   "cell_type": "markdown",
   "id": "1ac78a37",
   "metadata": {},
   "source": [
    "- конструкція else використовується лише коли потрібно визначити чи був викликаний break\n",
    "- однострічкові вирази list comprehension (ми можемо накопичити список використовуючи for в одному рядку)\n",
    "- розгалуження також можуть бути однорядковими, а ще ми можемо це все комбінувати"
   ]
  },
  {
   "cell_type": "code",
   "execution_count": 36,
   "id": "f7507b7a",
   "metadata": {},
   "outputs": [
    {
     "name": "stdout",
     "output_type": "stream",
     "text": [
      "[2, 4, 8, 16, 32, 64, 128]\n",
      "[2, 4, 8, 16, 32, 64, 128]\n",
      "{1: 2, 2: 4, 3: 8, 4: 16, 5: 32, 6: 64, 7: 128}\n",
      "Визначені парні числа: [2, 4, 6, 8, 10, 12, 14, 16, 18, 20]\n"
     ]
    }
   ],
   "source": [
    "x = []\n",
    "for i in range(1, 8):\n",
    "    x.append(2 ** i)\n",
    "\n",
    "print(x)\n",
    "\n",
    "x = [2 ** i for i in range(1, 8)]\n",
    "print(x)\n",
    "\n",
    "d = {i: 2 ** i for i in range(1, 8)}\n",
    "print(d)\n",
    "\n",
    "even_nembers = [i for i in range(1, 21) if i % 2 == 0]\n",
    "print(f\"Визначені парні числа: {even_nembers}\")"
   ]
  },
  {
   "cell_type": "markdown",
   "id": "b067c77b",
   "metadata": {},
   "source": [
    "# Виловлювання помилок\n",
    "- найчастіше використовується для зовнішніх помилок\n",
    "- обролювач завжди повинен бути привязаний до конкретної помилки (хоча можемо робити і узагальнуну помилку)"
   ]
  },
  {
   "cell_type": "code",
   "execution_count": 29,
   "id": "ff490d55",
   "metadata": {},
   "outputs": [
    {
     "name": "stdout",
     "output_type": "stream",
     "text": [
      "1. Ділення на 5\n",
      "Результат: 2.0 та невідомам змінна 1\n",
      "Використовуємо результат далі для операції <#><#>\n",
      "2. Ділення на 0\n",
      "Сталася помилка: division by zero Сетапимо значення за замовчуванням 0\n",
      "Використовуємо результат далі для операції \n",
      "3. Ділення на 4\n",
      "Результат: 2.5 та невідомам змінна 1\n",
      "Використовуємо результат далі для операції <#><#>\n",
      "4. Ділення на 2\n",
      "Результат: 5.0 та невідомам змінна 1\n",
      "Використовуємо результат далі для операції <#><#><#><#><#>\n",
      "5. Ділення на 1\n",
      "Результат: 10.0 та невідомам змінна 1\n",
      "Використовуємо результат далі для операції <#><#><#><#><#><#><#><#><#><#>\n",
      "6. Ділення на 0\n",
      "Сталася помилка: division by zero Сетапимо значення за замовчуванням 0\n",
      "Використовуємо результат далі для операції \n",
      "7. Ділення на 5\n",
      "Результат: 2.0 та невідомам змінна 1\n",
      "Використовуємо результат далі для операції <#><#>\n",
      "8. Ділення на 1\n",
      "Результат: 10.0 та невідомам змінна 1\n",
      "Використовуємо результат далі для операції <#><#><#><#><#><#><#><#><#><#>\n",
      "9. Ділення на 0\n",
      "Сталася помилка: division by zero Сетапимо значення за замовчуванням 0\n",
      "Використовуємо результат далі для операції \n",
      "10. Ділення на 5\n",
      "Результат: 2.0 та невідомам змінна 1\n",
      "Використовуємо результат далі для операції <#><#>\n"
     ]
    }
   ],
   "source": [
    "import random\n",
    "\n",
    "for i in range(1, 11):\n",
    "    divider = random.randint(0, 5)\n",
    "    print(f\"{i}. Ділення на {divider}\")\n",
    "    #result = 10 / divider\n",
    "    try:\n",
    "        result = 10 / divider\n",
    "        x = 1\n",
    "        print(f\"Результат: {result} та невідомам змінна {x}\")\n",
    "    # except Exception as e:\n",
    "    except ZeroDivisionError as e:\n",
    "        print(\"Сталася помилка:\", e, \"Сетапимо значення за замовчуванням 0\")\n",
    "        result = 0\n",
    "    finally:\n",
    "        print(f\"Використовуємо результат далі для операції {int(result)*\"<#>\"}\")\n"
   ]
  },
  {
   "cell_type": "code",
   "execution_count": null,
   "id": "3f557b26",
   "metadata": {},
   "outputs": [],
   "source": [
    "def fun():\n",
    "    if True:\n",
    "        return\n",
    "    print(\"Цей рядок ніколи не буде виконаний\")\n",
    "    return"
   ]
  },
  {
   "cell_type": "markdown",
   "id": "61badcc0",
   "metadata": {},
   "source": [
    "Завдання\n",
    "- написати код обрахунку числ фібоначі з використанням однострічнових виразів"
   ]
  },
  {
   "cell_type": "code",
   "execution_count": 37,
   "id": "153cdeea",
   "metadata": {},
   "outputs": [
    {
     "name": "stdout",
     "output_type": "stream",
     "text": [
      "[0, 1, 1, 2, 3, 5, 8, 13, 21, 34, 55, 89, 144, 233, 377, 610, 987, 1597, 2584, 4181, 6765, 10946]\n"
     ]
    }
   ],
   "source": [
    "# написати код обрахунку числ фібоначі з використанням однострічнових виразів\n",
    "fibonacci = [0, 1]\n",
    "[fibonacci.append(fibonacci[-1] + fibonacci[-2]) for _ in range(20)]\n",
    "print(fibonacci)"
   ]
  }
 ],
 "metadata": {
  "kernelspec": {
   "display_name": "3.13.7",
   "language": "python",
   "name": "python3"
  },
  "language_info": {
   "codemirror_mode": {
    "name": "ipython",
    "version": 3
   },
   "file_extension": ".py",
   "mimetype": "text/x-python",
   "name": "python",
   "nbconvert_exporter": "python",
   "pygments_lexer": "ipython3",
   "version": "3.13.7"
  }
 },
 "nbformat": 4,
 "nbformat_minor": 5
}
