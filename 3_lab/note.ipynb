{
 "cells": [
  {
   "cell_type": "markdown",
   "id": "f9ab8da3",
   "metadata": {},
   "source": [
    "# Вступ ООП\n",
    "## Різниця між функціональним програмуванням та ООП"
   ]
  },
  {
   "cell_type": "markdown",
   "id": "884bb05d",
   "metadata": {},
   "source": [
    "- робимо прототип гри (карткової гри) де й нас є ітеми (наприклад якась зброя) яка має певні властивості і якою ми можемо робити ходи і загатись (цими ітемами)"
   ]
  },
  {
   "cell_type": "code",
   "execution_count": 7,
   "id": "4c8653a7",
   "metadata": {},
   "outputs": [],
   "source": [
    "import random\n",
    "names = [\"Мечик\", \"Шпага\", \"Сокирка\", \"Спис\"]\n",
    "magic_types = [\"Вогонь\", \"Земля\", \"Вода\", \"Вітер\"]\n",
    "\n",
    "def draw_card():\n",
    "    item = {\n",
    "        \"name\": random.choice(names),\n",
    "        \"attack_power\": random.randint(4, 8),\n",
    "        \"durability\": random.randint(30, 60),\n",
    "        \"magic_attribute\": f\"Магія: {random.choice(magic_types)}\"\n",
    "    }\n",
    "\n",
    "    # print(f\"\"\"\n",
    "          # Витягуємо карту: \n",
    "            # Нам випав: {item[\"name\"]}\n",
    "              # з атакою {item[\"attack_power\"]}\n",
    "              # з захистом {item[\"durability\"]}\n",
    "              # з атрибутом {item[\"magic_attribute\"]}\n",
    "          # \"\"\")\n",
    "    return item"
   ]
  },
  {
   "cell_type": "markdown",
   "id": "dce231bd",
   "metadata": {},
   "source": [
    "- імітуємо: кожен з гравців бере по 3 карти"
   ]
  },
  {
   "cell_type": "code",
   "execution_count": 11,
   "id": "aebaa0ef",
   "metadata": {},
   "outputs": [
    {
     "name": "stdout",
     "output_type": "stream",
     "text": [
      "Гравець 1 робить хід:\n",
      "Гравець 2 робить хід:\n",
      "Гравець 1 робить хід:\n",
      "Гравець 2 робить хід:\n",
      "Гравець 1 робить хід:\n",
      "Гравець 2 робить хід:\n",
      "Карти у руці гравця 1:\n",
      "        [{'name': 'Шпага', 'attack_power': 8, 'durability': 45, 'magic_attribute': 'Магія: Вода'}, {'name': 'Спис', 'attack_power': 6, 'durability': 59, 'magic_attribute': 'Магія: Земля'}, {'name': 'Мечик', 'attack_power': 4, 'durability': 59, 'magic_attribute': 'Магія: Земля'}]\n",
      "    Карти у руці гравця 2:\n",
      "        [{'name': 'Спис', 'attack_power': 5, 'durability': 38, 'magic_attribute': 'Магія: Вода'}, {'name': 'Сокирка', 'attack_power': 6, 'durability': 52, 'magic_attribute': 'Магія: Земля'}, {'name': 'Спис', 'attack_power': 4, 'durability': 50, 'magic_attribute': 'Магія: Вогонь'}]\n",
      "      \n"
     ]
    }
   ],
   "source": [
    "player_1 = list()\n",
    "player_2 = list()\n",
    "\n",
    "\n",
    "for move in range(3):\n",
    "    print(\"Гравець 1 робить хід:\")\n",
    "    player_1.append(draw_card())\n",
    "    print(\"Гравець 2 робить хід:\")\n",
    "    player_2.append(draw_card())\n",
    "\n",
    "print(f\"\"\"Карти у руці гравця 1:\n",
    "        {player_1}\n",
    "    Карти у руці гравця 2:\n",
    "        {player_2}\n",
    "      \"\"\")"
   ]
  },
  {
   "cell_type": "markdown",
   "id": "d8eda2e8",
   "metadata": {},
   "source": [
    "- імутуємо - равці починають робити ходи картами, і карти будуть взаємодіяти між собою, атака буде зменшувати жувучіть поки карта не вилітає"
   ]
  },
  {
   "cell_type": "code",
   "execution_count": 16,
   "id": "8893e10d",
   "metadata": {},
   "outputs": [
    {
     "name": "stdout",
     "output_type": "stream",
     "text": [
      "У гравця 1 не залишилось карт\n",
      "\n",
      "        у гравця 1 залишилось витривалості: 40\n",
      "        у гравця 2 залишилось витривалості: 30\n",
      "        \n",
      "\n",
      "        у гравця 1 залишилось витривалості: 35\n",
      "        у гравця 2 залишилось витривалості: 22\n",
      "        \n",
      "\n",
      "        у гравця 1 залишилось витривалості: 30\n",
      "        у гравця 2 залишилось витривалості: 14\n",
      "        \n",
      "\n",
      "        у гравця 1 залишилось витривалості: 25\n",
      "        у гравця 2 залишилось витривалості: 6\n",
      "        \n",
      "\n",
      "        у гравця 1 залишилось витривалості: 20\n",
      "        у гравця 2 залишилось витривалості: -2\n",
      "        \n",
      "\n",
      "        у гравця 1 залишилось витривалості: 15\n",
      "        у гравця 2 залишилось витривалості: -10\n",
      "        \n",
      "\n",
      "        у гравця 1 залишилось витривалості: 10\n",
      "        у гравця 2 залишилось витривалості: -18\n",
      "        \n",
      "\n",
      "        у гравця 1 залишилось витривалості: 5\n",
      "        у гравця 2 залишилось витривалості: -26\n",
      "        \n",
      "\n",
      "        у гравця 1 залишилось витривалості: 0\n",
      "        у гравця 2 залишилось витривалості: -34\n",
      "        \n",
      "У гравців закінчились карти\n",
      "У гравця 1 не залишилось карт\n",
      "У гравця 2 не залишилось карт\n",
      "У гравців закінчились карти\n",
      "У гравця 1 не залишилось карт\n",
      "У гравця 2 не залишилось карт\n",
      "У гравців закінчились карти\n"
     ]
    }
   ],
   "source": [
    "def check_if_player_has_cards(list_of_cards: list) -> bool:\n",
    "    return True if len(list_of_cards) >= 1 else False\n",
    "\n",
    "\n",
    "for move in range(3):\n",
    "    if check_if_player_has_cards(player_1):\n",
    "        card_on_board_1 = player_1.pop()\n",
    "    else:\n",
    "        print(\"У гравця 1 не залишилось карт\")\n",
    "    \n",
    "    if check_if_player_has_cards(player_2):\n",
    "        card_on_board_2 = player_2.pop()\n",
    "    else:\n",
    "        print(\"У гравця 2 не залишилось карт\")\n",
    "\n",
    "    while card_on_board_1['durability'] > 0 or card_on_board_2['durability'] > 0:\n",
    "        card_on_board_1['durability'] -= card_on_board_2[\"attack_power\"]\n",
    "        card_on_board_2['durability'] -= card_on_board_1[\"attack_power\"]\n",
    "\n",
    "        print(f\"\"\"\n",
    "        у гравця 1 залишилось витривалості: {card_on_board_1['durability']}\n",
    "        у гравця 2 залишилось витривалості: {card_on_board_2['durability']}\n",
    "        \"\"\")\n",
    "    # перевіряємо яка з карт програла\n",
    "    if card_on_board_1['durability'] <= 0 and check_if_player_has_cards(player_1):\n",
    "        print(\"Карта гравця 1 Вибуває, гравець витягує нову карту\")\n",
    "        card_on_board_1 = player_1.pop()\n",
    "    elif card_on_board_2['durability'] <= 0 and check_if_player_has_cards(player_2):\n",
    "        print(\"Карта гравця 2 Вибуває, гравець витягує нову карту\")\n",
    "        card_on_board_2 = player_2.pop()\n",
    "    else:\n",
    "        print(\"У гравців закінчились карти\")\n"
   ]
  },
  {
   "cell_type": "markdown",
   "id": "e4e987b6",
   "metadata": {},
   "source": [
    "- тепер пробуємо це все переписати через ООП"
   ]
  }
 ],
 "metadata": {
  "kernelspec": {
   "display_name": "3.13.7",
   "language": "python",
   "name": "python3"
  },
  "language_info": {
   "codemirror_mode": {
    "name": "ipython",
    "version": 3
   },
   "file_extension": ".py",
   "mimetype": "text/x-python",
   "name": "python",
   "nbconvert_exporter": "python",
   "pygments_lexer": "ipython3",
   "version": "3.13.7"
  }
 },
 "nbformat": 4,
 "nbformat_minor": 5
}
