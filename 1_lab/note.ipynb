{
 "cells": [
  {
   "cell_type": "markdown",
   "id": "31b318b6",
   "metadata": {},
   "source": [
    "## Перша програма в інтерактивному режимі\n",
    "- просто програму на Python яка чекає вводу з клавіатури та друкує вивід"
   ]
  },
  {
   "cell_type": "code",
   "execution_count": 2,
   "id": "b527ce8c",
   "metadata": {},
   "outputs": [
    {
     "name": "stdout",
     "output_type": "stream",
     "text": [
      "Ви ввели: вапва Молодці!\n"
     ]
    }
   ],
   "source": [
    "user_input = input(\"Введіть щось: \")\n",
    "print(\"Ви ввели:\", user_input, \"Молодці!\")"
   ]
  },
  {
   "cell_type": "markdown",
   "id": "62e9d7d7",
   "metadata": {},
   "source": [
    "## Пробуємо простий приклад математичної гри запропонований АІ"
   ]
  },
  {
   "cell_type": "code",
   "execution_count": null,
   "id": "383976c9",
   "metadata": {},
   "outputs": [],
   "source": [
    "print(\"Скільки буде 5 + 7?\")\n",
    "answer = int(input(\"Ваша відповідь: \"))\n",
    "if answer == 12:\n",
    "    print(\"Правильно!\")\n",
    "else:\n",
    "    print(\"Неправильно. Правильна відповідь: 12\")\n"
   ]
  }
 ],
 "metadata": {
  "kernelspec": {
   "display_name": "Python 3",
   "language": "python",
   "name": "python3"
  },
  "language_info": {
   "codemirror_mode": {
    "name": "ipython",
    "version": 3
   },
   "file_extension": ".py",
   "mimetype": "text/x-python",
   "name": "python",
   "nbconvert_exporter": "python",
   "pygments_lexer": "ipython3",
   "version": "3.12.9"
  }
 },
 "nbformat": 4,
 "nbformat_minor": 5
}
