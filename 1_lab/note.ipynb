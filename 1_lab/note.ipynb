{
 "cells": [
  {
   "cell_type": "markdown",
   "id": "31b318b6",
   "metadata": {},
   "source": [
    "## Перша програма в інтерактивному режимі\n",
    "- просто програму на Python яка чекає вводу з клавіатури та друкує вивід"
   ]
  },
  {
   "cell_type": "code",
   "execution_count": 7,
   "id": "b527ce8c",
   "metadata": {},
   "outputs": [
    {
     "name": "stdout",
     "output_type": "stream",
     "text": [
      "Ви ввели: ввів Молодці!\n"
     ]
    }
   ],
   "source": [
    "user_input = input(\"Введіть щось: \")\n",
    "print(\"Ви ввели:\", user_input, \"Молодці!\")"
   ]
  },
  {
   "cell_type": "markdown",
   "id": "62e9d7d7",
   "metadata": {},
   "source": [
    "## Пробуємо простий приклад математичної гри запропонований АІ\n",
    "- модифікували гру з використанням випадкових чисел\n",
    "- додали форматування стрічок щоб підставляти числа із зміних"
   ]
  },
  {
   "cell_type": "code",
   "execution_count": 8,
   "id": "383976c9",
   "metadata": {},
   "outputs": [
    {
     "name": "stdout",
     "output_type": "stream",
     "text": [
      "Правильно!\n"
     ]
    }
   ],
   "source": [
    "import random\n",
    "a, b = random.randint(1, 10), random.randint(1, 10)\n",
    "answer = int(input(f\"Скільки буде {a} + {b}? Ваша відповідь: \"))\n",
    "if answer == a + b:\n",
    "    print(\"Правильно!\")\n",
    "else:\n",
    "    print(\"Неправильно. Правильна відповідь:\", a + b)\n"
   ]
  }
 ],
 "metadata": {
  "kernelspec": {
   "display_name": "Python 3",
   "language": "python",
   "name": "python3"
  },
  "language_info": {
   "codemirror_mode": {
    "name": "ipython",
    "version": 3
   },
   "file_extension": ".py",
   "mimetype": "text/x-python",
   "name": "python",
   "nbconvert_exporter": "python",
   "pygments_lexer": "ipython3",
   "version": "3.12.9"
  }
 },
 "nbformat": 4,
 "nbformat_minor": 5
}
